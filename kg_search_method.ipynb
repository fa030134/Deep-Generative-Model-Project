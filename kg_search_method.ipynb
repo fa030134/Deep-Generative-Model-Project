{
 "cells": [
  {
   "cell_type": "code",
   "execution_count": null,
   "metadata": {},
   "outputs": [],
   "source": [
    "from langchain_community.document_loaders import DirectoryLoader, TextLoader, PyMuPDFLoader, CSVLoader\n",
    "\n",
    "from py2neo import Graph, Node, Relationship\n",
    "from py2neo import NodeMatcher, RelationshipMatcher\n",
    "import spacy\n",
    "from tqdm import tqdm\n",
    "import re\n",
    "\n",
    "from sentence_transformers import SentenceTransformer\n",
    "\n",
    "model_path=\"/home/yuxin.yang/model/moka-ai/m3e-base\"\n",
    "model = SentenceTransformer(model_path)\n",
    "\n",
    "\n",
    "graph=Graph('http://localhost:7474',user='neo4j',password='cecaceca512',name='neo4j')\n",
    "node_matcher = NodeMatcher(graph)\n",
    "\n",
    "nlp = spacy.load(\"zh_core_web_trf\")"
   ]
  }
 ],
 "metadata": {
  "language_info": {
   "name": "python"
  }
 },
 "nbformat": 4,
 "nbformat_minor": 2
}
